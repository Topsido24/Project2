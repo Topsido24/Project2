{
 "cells": [
  {
   "cell_type": "code",
   "execution_count": null,
   "id": "7a733724-d032-4566-9e78-7a8c25d08335",
   "metadata": {},
   "outputs": [],
   "source": [
    "import warnings\n",
    "warnings.simplefilter('ignore')\n",
    "\n",
    "import numpy as np\n",
    "import pandas as pd\n",
    "import seaborn as sns\n",
    "import matplotlib.pyplot as plt\n",
    "\n",
    "from sklearn.preprocessing import  LabelEncoder, StandardScaler\n",
    "from sklearn.model_selection import train_test_split, GridSearchCV, cross_val_score, KFold\n",
    "from sklearn import metrics\n",
    "from sklearn.linear_model import LinearRegression\n",
    "from sklearn.preprocessing import PolynomialFeatures\n",
    "from sklearn.pipeline import Pipeline\n",
    "from catboost import CatBoostRegressor\n",
    "from sklearn.ensemble import RandomForestRegressor"
   ]
  },
  {
   "cell_type": "code",
   "execution_count": null,
   "id": "de2a319f-3e64-485d-bedb-fc606be5a5a5",
   "metadata": {},
   "outputs": [],
   "source": [
    "df1 = pd.read_csv(\"/kaggle/input/airbnb-prices-in-european-cities/amsterdam_weekdays.csv\")\n",
    "df2 = pd.read_csv(\"/kaggle/input/airbnb-prices-in-european-cities/amsterdam_weekends.csv\")\n",
    "\n",
    "\n",
    "# Concatenate the DataFrames\n",
    "amsterdam_df = pd.concat([df1, df2], ignore_index=True)\n",
    "\n",
    "# Save the combined DataFrame to a new CSV file\n",
    "amsterdam_df.to_csv('amsterdam_data.csv', index=False)"
   ]
  },
  {
   "cell_type": "code",
   "execution_count": null,
   "id": "eaa8cf11-7181-46fa-b2b3-6cca549bd11e",
   "metadata": {},
   "outputs": [],
   "source": [
    "amsterdam_df.shape"
   ]
  },
  {
   "cell_type": "code",
   "execution_count": null,
   "id": "4235b740-16c1-4300-8d4c-0092c3747cdf",
   "metadata": {},
   "outputs": [],
   "source": [
    "amsterdam_df.columns"
   ]
  },
  {
   "cell_type": "code",
   "execution_count": null,
   "id": "5da119e4-6d35-4aa8-8680-eb6ab75e55a1",
   "metadata": {},
   "outputs": [],
   "source": [
    "amsterdam_df.info()"
   ]
  },
  {
   "cell_type": "code",
   "execution_count": null,
   "id": "6d299339-ea2e-4d9a-95b0-726ecf609db3",
   "metadata": {},
   "outputs": [],
   "source": [
    "amsterdam_df.describe()"
   ]
  },
  {
   "cell_type": "code",
   "execution_count": null,
   "id": "1229ac44-182a-4b4a-86ca-48207dbb1535",
   "metadata": {},
   "outputs": [],
   "source": [
    "#Checking distributions of the various features in the dataset\n",
    "\n",
    "index= [\"room_shared\",\"realSum\", \"room_type\",\"room_private\",\"person_capacity\",\"host_is_superhost\", \"multi\", \"biz\", \"cleanliness_rating\",\n",
    "        \"guest_satisfaction_overall\", \"bedrooms\", \"dist\", \"metro_dist\", \"attr_index_norm\", \"attr_index\", \"rest_index\", \"rest_index_norm\", \"lng\", \n",
    "        \"lat\"]\n",
    "\n",
    "for i in index:\n",
    "    \n",
    "    print(amsterdam_df[i].value_counts(), \"\\n\")\n",
    "    print(\"---------------------------------------------------------------\")"
   ]
  },
  {
   "cell_type": "code",
   "execution_count": null,
   "id": "098ae8ed-44fb-46ed-ac81-d36030914df9",
   "metadata": {},
   "outputs": [],
   "source": [
    "# Identify and filter categorical columns\n",
    "categorical_cols = [col for col in amsterdam_df.columns if amsterdam_df[col].dtype == 'object']\n",
    "\n",
    "# Calculate the number of rows needed based on the number of categorical columns\n",
    "num_col = len(categorical_cols)\n",
    "num_row = (num_col + 2) // 3  # Calculate the number of rows needed\n",
    "\n",
    "plt.figure(figsize=(15, 5 * num_row))  # Adjust the figure size based on the number of rows\n",
    "\n",
    "for i, col in enumerate(categorical_cols, 1):\n",
    "    plt.subplot(num_row, 3, i)  # 3 columns per row\n",
    "    sns.countplot(data=amsterdam_df, x=col)\n",
    "    plt.title(f'Count Plot of {col}')\n",
    "\n",
    "plt.tight_layout()\n",
    "plt.show()"
   ]
  },
  {
   "cell_type": "code",
   "execution_count": null,
   "id": "2ba46219-65b9-444f-834b-6bfbcc1633e4",
   "metadata": {},
   "outputs": [],
   "source": [
    "unnamed = amsterdam_df['Unnamed: 0']\n",
    "attr_index = amsterdam_df['attr_index']\n",
    "attr_index_norm = amsterdam_df['attr_index_norm']\n",
    "rest_index = amsterdam_df['rest_index']\n",
    "rest_index_norm = amsterdam_df['rest_index_norm']\n",
    "\n",
    "# Drop the specified columns from the DataFrame\n",
    "columns_to_drop = ['Unnamed: 0', 'attr_index', 'attr_index_norm', 'rest_index', 'rest_index_norm']\n",
    "amsterdam_df = amsterdam_df.drop(columns_to_drop, axis=1)\n",
    "\n",
    "# Display the updated DataFrame\n",
    "amsterdam_df.head()"
   ]
  },
  {
   "cell_type": "code",
   "execution_count": null,
   "id": "f069730f-cc45-4672-bf9f-188aecb5857d",
   "metadata": {},
   "outputs": [],
   "source": [
    "amsterdam_df = pd.get_dummies(amsterdam_df)\n",
    "amsterdam_df.head()"
   ]
  },
  {
   "cell_type": "code",
   "execution_count": null,
   "id": "ccde19fe-2538-4f62-8cf6-b961a4a15f9e",
   "metadata": {},
   "outputs": [],
   "source": [
    "le = LabelEncoder()\n",
    "\n",
    "for col in amsterdam_df.columns:\n",
    "    if amsterdam_df[col].dtype == 'bool':\n",
    "        print(f\"Column '{col}' is boolean and will be converted to binary using LabelEncoder.\")\n",
    "        \n",
    "        # Fit and transform the LabelEncoder on the column\n",
    "        amsterdam_df[col] = le.fit_transform(amsterdam_df[col])\n",
    "\n",
    "amsterdam_df.head()"
   ]
  },
  {
   "cell_type": "code",
   "execution_count": null,
   "id": "596051ac-2a7c-4140-ae63-740d2e4fdbba",
   "metadata": {},
   "outputs": [],
   "source": [
    "y = amsterdam_df['realSum'] #Target variable / Dependent variable\n",
    "\n",
    "X = amsterdam_df.drop('realSum', axis =1) # Independent \n",
    "\n",
    "correlation = X.corrwith(y)\n",
    "print(correlation)"
   ]
  },
  {
   "cell_type": "code",
   "execution_count": null,
   "id": "9dd2e2bf-3c4d-4fdc-9d9b-6430d64cbfb2",
   "metadata": {},
   "outputs": [],
   "source": [
    "plt.figure(figsize=(12, 6))\n",
    "sns.barplot(x=correlation.values, y=correlation.index, palette=\"viridis\")\n",
    "plt.xlabel('Correlation Coefficient')\n",
    "plt.ylabel('Features')\n",
    "plt.title('Correlation between Features and Booking Prices')\n",
    "plt.grid(axis='x', linestyle='--', alpha=0.6)\n",
    "plt.show()"
   ]
  },
  {
   "cell_type": "code",
   "execution_count": null,
   "id": "b03fc5cc-c153-43a0-aa1a-09168ccbe1dd",
   "metadata": {},
   "outputs": [],
   "source": [
    "corr_matrix = X.corr()\n",
    "\n",
    "# Set the font size for labels\n",
    "plt.rc('font', size=8)\n",
    "\n",
    "# Create a heatmap plot of the correlation matrix\n",
    "plt.figure(figsize=(12, 12))\n",
    "plt.imshow(corr_matrix, cmap='coolwarm', interpolation='nearest', vmin=-1, vmax=1)\n",
    "plt.colorbar()\n",
    "plt.title('Correlation Matrix between features')\n",
    "plt.xticks(np.arange(len(corr_matrix.columns)), corr_matrix.columns, rotation=45)\n",
    "plt.yticks(np.arange(len(corr_matrix.columns)), corr_matrix.columns)\n",
    "plt.tight_layout()\n",
    "plt.show()"
   ]
  },
  {
   "cell_type": "code",
   "execution_count": null,
   "id": "871a1052-7627-491d-859d-7bbc129e31e3",
   "metadata": {},
   "outputs": [],
   "source": [
    "print(corr_matrix)"
   ]
  },
  {
   "cell_type": "code",
   "execution_count": null,
   "id": "bab17898-defb-4674-bda0-1f05d1b94291",
   "metadata": {},
   "outputs": [],
   "source": [
    "from statsmodels.stats.outliers_influence import variance_inflation_factor #Handling multicollinearity\n",
    "# VIF dataframe\n",
    "vif_data = pd.DataFrame()\n",
    "vif_data[\"feature\"] = X.columns\n",
    "  \n",
    "# calculating VIF for each feature\n",
    "vif_data[\"VIF\"] = [variance_inflation_factor(X.values, i)\n",
    "                          for i in range(len(X.columns))]\n",
    "  \n",
    "print(vif_data)"
   ]
  },
  {
   "cell_type": "code",
   "execution_count": null,
   "id": "618b5654-2e73-40db-b027-931c1693020f",
   "metadata": {},
   "outputs": [],
   "source": [
    "X = X.drop(['room_shared','room_private', 'room_type_Private room','cleanliness_rating', 'room_type_Shared room'], axis=1)\n",
    "X.head()"
   ]
  },
  {
   "cell_type": "code",
   "execution_count": null,
   "id": "c8e210ca-ea2c-4838-a220-22f5d290f9a2",
   "metadata": {},
   "outputs": [],
   "source": [
    "X = amsterdam_df['person_capacity'].values\n",
    "y = amsterdam_df['realSum'].values\n",
    "print(X)\n",
    "print(y)"
   ]
  },
  {
   "cell_type": "code",
   "execution_count": null,
   "id": "844c875b-507b-444c-9cb1-6f179482a952",
   "metadata": {},
   "outputs": [],
   "source": [
    "X = X.reshape(-1,1)\n",
    "print(X)"
   ]
  },
  {
   "cell_type": "code",
   "execution_count": null,
   "id": "5dd0616b-cba2-4809-ac77-24431142d86f",
   "metadata": {},
   "outputs": [],
   "source": [
    "X_train, X_test, y_train, y_test = train_test_split(X, y, train_size=.8, test_size=.2, random_state=100)"
   ]
  },
  {
   "cell_type": "code",
   "execution_count": null,
   "id": "f39a9b7b-ddd3-4fd9-af06-4fdf5d0f82bb",
   "metadata": {},
   "outputs": [],
   "source": [
    "print(f'X_train shape{X_train}')\n",
    "print(f'X_test shape{X_test}')\n",
    "print(f'y_train shape{y_train}')\n",
    "print(f'y_test shape{y_test}')"
   ]
  },
  {
   "cell_type": "code",
   "execution_count": null,
   "id": "5dad5b31-5fb6-4271-a585-3458bb318683",
   "metadata": {},
   "outputs": [],
   "source": [
    "plt.scatter(X_train, y_train)\n",
    "plt.xlabel('Person Capacity')\n",
    "plt.ylabel('Price of Airbnb')\n",
    "plt.title('Amsterdam Airbnb Training Data')\n",
    "plt.show()"
   ]
  },
  {
   "cell_type": "code",
   "execution_count": null,
   "id": "8c68402c-520d-408b-8bae-4ba62a76d789",
   "metadata": {},
   "outputs": [],
   "source": [
    "lm = LinearRegression()\n",
    "lm.fit(X_train, y_train)\n",
    "y_predict = lm.predict(X_test)\n",
    "print(f'Train Accuracy {round(lm.score(X_train, y_train)* 100,2)}%')\n",
    "print(f'Test Accuracy {round(lm.score(X_test, y_test)* 100,2)}%')"
   ]
  },
  {
   "cell_type": "code",
   "execution_count": null,
   "id": "5d3442d0-5cf0-4886-93a3-6e8df8dadeac",
   "metadata": {},
   "outputs": [],
   "source": [
    "from sklearn.metrics import mean_squared_error, r2_score\n",
    "\n",
    "# Create a Random Forest Regressor model\n",
    "rf_model = RandomForestRegressor(n_estimators=100, random_state=42)\n",
    "\n",
    "# Train the model on the training data\n",
    "rf_model.fit(X_train, y_train)\n",
    "\n",
    "# Make predictions on the test data\n",
    "y_pred = rf_model.predict(X_test)\n",
    "\n",
    "# Evaluate the model\n",
    "mse = mean_squared_error(y_test, y_pred)\n",
    "r2 = r2_score(y_test, y_pred)\n",
    "print(f'Mean Squared Error: {mse}')\n",
    "print(f'R-squared: {r2}')\n",
    "\n",
    "# Visualize predicted vs. actual booking prices (optional)\n",
    "plt.scatter(y_test, y_pred, alpha=0.5)\n",
    "plt.xlabel('Actual Booking Price')\n",
    "plt.ylabel('Predicted Booking Price')\n",
    "plt.title('Actual vs. Predicted Booking Prices')\n",
    "plt.show()"
   ]
  },
  {
   "cell_type": "code",
   "execution_count": null,
   "id": "bd3e0571-e599-442e-b527-5b8d78dee14c",
   "metadata": {},
   "outputs": [],
   "source": [
    "In this program, I had a lot of overfitting which I should have standardize before getting to this point. I will look into the program again and get the best model to use while comparing Linear Regression and Random Forest Regression models."
   ]
  }
 ],
 "metadata": {
  "kernelspec": {
   "display_name": "Python 3 (ipykernel)",
   "language": "python",
   "name": "python3"
  },
  "language_info": {
   "codemirror_mode": {
    "name": "ipython",
    "version": 3
   },
   "file_extension": ".py",
   "mimetype": "text/x-python",
   "name": "python",
   "nbconvert_exporter": "python",
   "pygments_lexer": "ipython3",
   "version": "3.10.7"
  }
 },
 "nbformat": 4,
 "nbformat_minor": 5
}
